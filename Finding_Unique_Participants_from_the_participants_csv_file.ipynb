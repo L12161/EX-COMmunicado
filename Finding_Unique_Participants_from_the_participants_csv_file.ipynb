{
  "nbformat": 4,
  "nbformat_minor": 0,
  "metadata": {
    "colab": {
      "name": "Finding Unique Participants from the participants csv file.ipynb",
      "provenance": [],
      "authorship_tag": "ABX9TyPGe5KRtzN5FY7zh7a9KDzW",
      "include_colab_link": true
    },
    "kernelspec": {
      "name": "python3",
      "display_name": "Python 3"
    },
    "language_info": {
      "name": "python"
    }
  },
  "cells": [
    {
      "cell_type": "markdown",
      "metadata": {
        "id": "view-in-github",
        "colab_type": "text"
      },
      "source": [
        "<a href=\"https://colab.research.google.com/github/L12161/EX-COMmunicado/blob/main/Finding_Unique_Participants_from_the_participants_csv_file.ipynb\" target=\"_parent\"><img src=\"https://colab.research.google.com/assets/colab-badge.svg\" alt=\"Open In Colab\"/></a>"
      ]
    },
    {
      "cell_type": "code",
      "metadata": {
        "colab": {
          "base_uri": "https://localhost:8080/"
        },
        "id": "nLhSqwnTyTSq",
        "outputId": "7d53cf70-1dc6-46bd-9912-4682d39e0509"
      },
      "source": [
        "print(\"This tool was made with love, by your batch 16 seniors.\")"
      ],
      "execution_count": 86,
      "outputs": [
        {
          "output_type": "stream",
          "text": [
            "This tool was made with love, by your batch 16 seniors.\n"
          ],
          "name": "stdout"
        }
      ]
    },
    {
      "cell_type": "code",
      "metadata": {
        "id": "TzgXhOSB0ULz"
      },
      "source": [
        "the_csv_file_path = '/content/PES_Attendance_List.csv'   #changes"
      ],
      "execution_count": 87,
      "outputs": []
    },
    {
      "cell_type": "code",
      "metadata": {
        "id": "J5DP_ZoN0dBS"
      },
      "source": [
        "import csv\n",
        "\n",
        "with open(the_csv_file_path, newline='') as f:\n",
        "    reader = csv.reader(f)\n",
        "    data = list(reader)\n"
      ],
      "execution_count": 88,
      "outputs": []
    },
    {
      "cell_type": "code",
      "metadata": {
        "id": "lmlxm2Bp2e4-"
      },
      "source": [
        "# Initializing all the lists we are going to use. \n",
        "List_with_all_emails = []\n",
        "List_of_unique_participants = []"
      ],
      "execution_count": 89,
      "outputs": []
    },
    {
      "cell_type": "code",
      "metadata": {
        "id": "_OW_bMRD1iwR"
      },
      "source": [
        "Eii_row_theke_data_newa_shuru = 4 # Here, the useful part of our table actually started from Row 4. So, we will use 4 here. \n",
        "eii_column_ee_email_ache = 1 # Here, provide the column no that contains the emails \n",
        "for i in range(Eii_row_theke_data_newa_shuru,len(data)):\n",
        "  #if data[i][1] != data[i-1][1]\n",
        "  List_with_all_emails.append(data[i][eii_column_ee_email_ache])\n"
      ],
      "execution_count": 90,
      "outputs": []
    },
    {
      "cell_type": "code",
      "metadata": {
        "colab": {
          "base_uri": "https://localhost:8080/"
        },
        "id": "bQsoetti13vw",
        "outputId": "09a44809-e946-4ff7-d122-4b49854870e1"
      },
      "source": [
        "List_with_all_emails = sorted(List_with_all_emails)\n",
        "len(List_with_all_emails)"
      ],
      "execution_count": 91,
      "outputs": [
        {
          "output_type": "execute_result",
          "data": {
            "text/plain": [
              "259"
            ]
          },
          "metadata": {
            "tags": []
          },
          "execution_count": 91
        }
      ]
    },
    {
      "cell_type": "code",
      "metadata": {
        "id": "Mw5tmtj_2xqf"
      },
      "source": [
        " for i in range(0,len(List_with_all_emails)-1):\n",
        "\n",
        "  if (List_with_all_emails[i] != List_with_all_emails[i+1]) :\n",
        "    #print(i)\n",
        "    List_of_unique_participants.append(List_with_all_emails[i])\n",
        "List_of_unique_participants.append(List_with_all_emails[i])"
      ],
      "execution_count": 92,
      "outputs": []
    },
    {
      "cell_type": "code",
      "metadata": {
        "id": "euTp_RK35Csq"
      },
      "source": [
        "len(List_of_unique_participants)"
      ],
      "execution_count": null,
      "outputs": []
    },
    {
      "cell_type": "code",
      "metadata": {
        "id": "7Bhl7dkK6nbt"
      },
      "source": [
        "List_with_all_emails"
      ],
      "execution_count": null,
      "outputs": []
    },
    {
      "cell_type": "code",
      "metadata": {
        "id": "xLKB-AdN5hbb"
      },
      "source": [
        "List_of_unique_participants"
      ],
      "execution_count": null,
      "outputs": []
    },
    {
      "cell_type": "code",
      "metadata": {
        "id": "p8WlvgDF3ej-"
      },
      "source": [
        "# use this to clean up the required email list and start over again\n",
        "List_of_unique_participants = []"
      ],
      "execution_count": 96,
      "outputs": []
    }
  ]
}