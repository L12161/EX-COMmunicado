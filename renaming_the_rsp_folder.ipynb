{
  "nbformat": 4,
  "nbformat_minor": 0,
  "metadata": {
    "colab": {
      "name": "renaming the rsp folder.ipynb",
      "provenance": [],
      "authorship_tag": "ABX9TyPDYkaUz9t4KD+F/zcaaC0s",
      "include_colab_link": true
    },
    "kernelspec": {
      "name": "python3",
      "display_name": "Python 3"
    },
    "language_info": {
      "name": "python"
    }
  },
  "cells": [
    {
      "cell_type": "markdown",
      "metadata": {
        "id": "view-in-github",
        "colab_type": "text"
      },
      "source": [
        "<a href=\"https://colab.research.google.com/github/L12161/EX-COMmunicado/blob/main/renaming_the_rsp_folder.ipynb\" target=\"_parent\"><img src=\"https://colab.research.google.com/assets/colab-badge.svg\" alt=\"Open In Colab\"/></a>"
      ]
    },
    {
      "cell_type": "code",
      "metadata": {
        "colab": {
          "base_uri": "https://localhost:8080/"
        },
        "id": "d4U-EtczwMiM",
        "outputId": "20ebb3b8-1d88-49da-cdc9-8a30e51f1eb8"
      },
      "source": [
        "print(\"somewhat exhausted, not making much progress\")"
      ],
      "execution_count": 53,
      "outputs": [
        {
          "output_type": "stream",
          "text": [
            "somewhat exhausted, not making much progress\n"
          ],
          "name": "stdout"
        }
      ]
    },
    {
      "cell_type": "code",
      "metadata": {
        "id": "T8fiTTP2w35R"
      },
      "source": [
        "import os\n",
        "import glob\n",
        "actual_file_name = []"
      ],
      "execution_count": 88,
      "outputs": []
    },
    {
      "cell_type": "code",
      "metadata": {
        "id": "FsN24lhExrx5"
      },
      "source": [
        "for name in glob.glob(\"/content/Class*\"):\n",
        "    actual_file_name.append(name)"
      ],
      "execution_count": 89,
      "outputs": []
    },
    {
      "cell_type": "code",
      "metadata": {
        "colab": {
          "base_uri": "https://localhost:8080/"
        },
        "id": "304b00a5yY95",
        "outputId": "8e26bce1-7fdf-4774-dc1c-3d6e3825ecc2"
      },
      "source": [
        "actual_file_name"
      ],
      "execution_count": 90,
      "outputs": [
        {
          "output_type": "execute_result",
          "data": {
            "text/plain": [
              "['/content/Class_14_0321.pdf',\n",
              " '/content/Class_27_0621.pdf',\n",
              " '/content/Class_30_0621.pdf',\n",
              " '/content/Class_11_0721.pdf',\n",
              " '/content/Class_7_0421.pdf',\n",
              " '/content/Class_23_0621.pdf',\n",
              " '/content/Class_21_0321.pdf',\n",
              " '/content/Class_01_0621.pdf',\n",
              " '/content/Class_02_0621.pdf',\n",
              " '/content/Class_23_0321.pdf',\n",
              " '/content/Class_28_07_21.pdf',\n",
              " '/content/Class_020321.pdf',\n",
              " '/content/Class_15_0621.pdf',\n",
              " '/content/Class_25_0521.pdf',\n",
              " '/content/Class_29_0621.pdf',\n",
              " '/content/Class_31_0321.pdf',\n",
              " '/content/Class_13_0721.pdf',\n",
              " '/content/Class_24_0321.pdf',\n",
              " '/content/Class_25_07_21.pdf',\n",
              " '/content/Class_10_0321.pdf',\n",
              " '/content/Class_6_0421.pdf',\n",
              " '/content/Class_30_0521.pdf',\n",
              " '/content/Class_06_0621.pdf',\n",
              " '/content/Class_06_0721.pdf',\n",
              " '/content/Class_20_0621.pdf',\n",
              " '/content/Class_09_0621.pdf',\n",
              " '/content/Class_13_0621.pdf',\n",
              " '/content/Class_070321.pdf',\n",
              " '/content/Class_4_0421.pdf',\n",
              " '/content/Class_22_0621.pdf',\n",
              " '/content/Class_04_0721.pdf',\n",
              " '/content/Class_08_0621.pdf',\n",
              " '/content/Class_030321.pdf',\n",
              " '/content/Class_07_0721.pdf',\n",
              " '/content/Class_090321.pdf',\n",
              " '/content/Class_28_0321.pdf',\n",
              " '/content/Class_27_07_21.pdf',\n",
              " '/content/Class_16_0621.pdf']"
            ]
          },
          "metadata": {
            "tags": []
          },
          "execution_count": 90
        }
      ]
    },
    {
      "cell_type": "code",
      "metadata": {
        "id": "xNAyATrUzCqH"
      },
      "source": [
        "#actual_file_name[0] = actual_file_name[0] - '/content/Class_'\n",
        "for i in range(0,len(actual_file_name)):\n",
        "  actual_file_name[i] = actual_file_name[i].replace('/content/Class_','')\n",
        "  "
      ],
      "execution_count": 69,
      "outputs": []
    },
    {
      "cell_type": "code",
      "metadata": {
        "colab": {
          "base_uri": "https://localhost:8080/"
        },
        "id": "vO0Xht_DzTp3",
        "outputId": "e34e07eb-4ab1-4100-9ac8-a8adb9e25fe6"
      },
      "source": [
        "actual_file_name"
      ],
      "execution_count": 70,
      "outputs": [
        {
          "output_type": "execute_result",
          "data": {
            "text/plain": [
              "['14_0321.pdf',\n",
              " '27_0621.pdf',\n",
              " '30_0621.pdf',\n",
              " '11_0721.pdf',\n",
              " '7_0421.pdf',\n",
              " '23_0621.pdf',\n",
              " '21_0321.pdf',\n",
              " '01_0621.pdf',\n",
              " '02_0621.pdf',\n",
              " '23_0321.pdf',\n",
              " '28_07_21.pdf',\n",
              " '020321.pdf',\n",
              " '15_0621.pdf',\n",
              " '25_0521.pdf',\n",
              " '29_0621.pdf',\n",
              " '31_0321.pdf',\n",
              " '13_0721.pdf',\n",
              " '24_0321.pdf',\n",
              " '25_07_21.pdf',\n",
              " '10_0321.pdf',\n",
              " '6_0421.pdf',\n",
              " '30_0521.pdf',\n",
              " '06_0621.pdf',\n",
              " '06_0721.pdf',\n",
              " '20_0621.pdf',\n",
              " '09_0621.pdf',\n",
              " '13_0621.pdf',\n",
              " '070321.pdf',\n",
              " '4_0421.pdf',\n",
              " '22_0621.pdf',\n",
              " '04_0721.pdf',\n",
              " '08_0621.pdf',\n",
              " '030321.pdf',\n",
              " '07_0721.pdf',\n",
              " '090321.pdf',\n",
              " '28_0321.pdf',\n",
              " '27_07_21.pdf',\n",
              " '16_0621.pdf']"
            ]
          },
          "metadata": {
            "tags": []
          },
          "execution_count": 70
        }
      ]
    },
    {
      "cell_type": "code",
      "metadata": {
        "id": "GzAokabF0ot9"
      },
      "source": [
        "# Here, we are going to add 0 to the single digit dates, to making sorting a bit more conveniant\n",
        "for i in range(0,len(actual_file_name)):\n",
        "  if actual_file_name[i][1] == '_':\n",
        "    actual_file_name[i] = '0' + actual_file_name[i]\n"
      ],
      "execution_count": 71,
      "outputs": []
    },
    {
      "cell_type": "code",
      "metadata": {
        "colab": {
          "base_uri": "https://localhost:8080/"
        },
        "id": "hMVHMpfV7IpJ",
        "outputId": "e3be2299-fc07-4d15-bd4e-237a26336aab"
      },
      "source": [
        "actual_file_name"
      ],
      "execution_count": 72,
      "outputs": [
        {
          "output_type": "execute_result",
          "data": {
            "text/plain": [
              "['14_0321.pdf',\n",
              " '27_0621.pdf',\n",
              " '30_0621.pdf',\n",
              " '11_0721.pdf',\n",
              " '07_0421.pdf',\n",
              " '23_0621.pdf',\n",
              " '21_0321.pdf',\n",
              " '01_0621.pdf',\n",
              " '02_0621.pdf',\n",
              " '23_0321.pdf',\n",
              " '28_07_21.pdf',\n",
              " '020321.pdf',\n",
              " '15_0621.pdf',\n",
              " '25_0521.pdf',\n",
              " '29_0621.pdf',\n",
              " '31_0321.pdf',\n",
              " '13_0721.pdf',\n",
              " '24_0321.pdf',\n",
              " '25_07_21.pdf',\n",
              " '10_0321.pdf',\n",
              " '06_0421.pdf',\n",
              " '30_0521.pdf',\n",
              " '06_0621.pdf',\n",
              " '06_0721.pdf',\n",
              " '20_0621.pdf',\n",
              " '09_0621.pdf',\n",
              " '13_0621.pdf',\n",
              " '070321.pdf',\n",
              " '04_0421.pdf',\n",
              " '22_0621.pdf',\n",
              " '04_0721.pdf',\n",
              " '08_0621.pdf',\n",
              " '030321.pdf',\n",
              " '07_0721.pdf',\n",
              " '090321.pdf',\n",
              " '28_0321.pdf',\n",
              " '27_07_21.pdf',\n",
              " '16_0621.pdf']"
            ]
          },
          "metadata": {
            "tags": []
          },
          "execution_count": 72
        }
      ]
    },
    {
      "cell_type": "code",
      "metadata": {
        "id": "MTQXE4Xz099V"
      },
      "source": [
        " # removing _ from the list elements\n",
        "for i in range(0,len(actual_file_name)):\n",
        "  actual_file_name[i] = actual_file_name[i].replace('/content/Class_','')\n",
        "  actual_file_name[i] = actual_file_name[i].replace('_','')"
      ],
      "execution_count": 73,
      "outputs": []
    },
    {
      "cell_type": "code",
      "metadata": {
        "colab": {
          "base_uri": "https://localhost:8080/"
        },
        "id": "FCKCvdGu7a8g",
        "outputId": "328844a9-2f58-40ef-c25e-c6f5a93d3583"
      },
      "source": [
        "actual_file_name"
      ],
      "execution_count": 74,
      "outputs": [
        {
          "output_type": "execute_result",
          "data": {
            "text/plain": [
              "['140321.pdf',\n",
              " '270621.pdf',\n",
              " '300621.pdf',\n",
              " '110721.pdf',\n",
              " '070421.pdf',\n",
              " '230621.pdf',\n",
              " '210321.pdf',\n",
              " '010621.pdf',\n",
              " '020621.pdf',\n",
              " '230321.pdf',\n",
              " '280721.pdf',\n",
              " '020321.pdf',\n",
              " '150621.pdf',\n",
              " '250521.pdf',\n",
              " '290621.pdf',\n",
              " '310321.pdf',\n",
              " '130721.pdf',\n",
              " '240321.pdf',\n",
              " '250721.pdf',\n",
              " '100321.pdf',\n",
              " '060421.pdf',\n",
              " '300521.pdf',\n",
              " '060621.pdf',\n",
              " '060721.pdf',\n",
              " '200621.pdf',\n",
              " '090621.pdf',\n",
              " '130621.pdf',\n",
              " '070321.pdf',\n",
              " '040421.pdf',\n",
              " '220621.pdf',\n",
              " '040721.pdf',\n",
              " '080621.pdf',\n",
              " '030321.pdf',\n",
              " '070721.pdf',\n",
              " '090321.pdf',\n",
              " '280321.pdf',\n",
              " '270721.pdf',\n",
              " '160621.pdf']"
            ]
          },
          "metadata": {
            "tags": []
          },
          "execution_count": 74
        }
      ]
    },
    {
      "cell_type": "code",
      "metadata": {
        "id": "GzYqZd3iz6EG"
      },
      "source": [
        "actual_file_name_sorted = actual_file_name"
      ],
      "execution_count": 75,
      "outputs": []
    },
    {
      "cell_type": "code",
      "metadata": {
        "colab": {
          "base_uri": "https://localhost:8080/"
        },
        "id": "SDFM_8Zt1zCI",
        "outputId": "94150f90-6435-4bac-e357-11b9375fb844"
      },
      "source": [
        "eii_list_diee_sort_korbo = [] \n",
        "\n",
        "for i in range(0,len(actual_file_name_sorted)):\n",
        "  \n",
        "  temp_dates  = actual_file_name_sorted[i][0:2]\n",
        "  temp_months = actual_file_name_sorted[i][2:4]\n",
        "  temp_list = actual_file_name_sorted[i][2:4] + actual_file_name_sorted[i][0:2] + actual_file_name_sorted[i][4:]\n",
        "  eii_list_diee_sort_korbo.append(temp_list)\n",
        "  # actual_file_name_sorted[i][0:2] =  temp_months\n",
        "  # actual_file_name_sorted[i][2:4] =  temp_dates\n",
        "  #print(temp_dates)\n",
        "  #print(temp_months) \n",
        "  #actual_file_name[i] = actual_file_name[i].replace('_','')\n",
        "eii_list_diee_sort_korbo"
      ],
      "execution_count": 86,
      "outputs": [
        {
          "output_type": "execute_result",
          "data": {
            "text/plain": [
              "['031421.pdf',\n",
              " '062721.pdf',\n",
              " '063021.pdf',\n",
              " '071121.pdf',\n",
              " '040721.pdf',\n",
              " '062321.pdf',\n",
              " '032121.pdf',\n",
              " '060121.pdf',\n",
              " '060221.pdf',\n",
              " '032321.pdf',\n",
              " '072821.pdf',\n",
              " '030221.pdf',\n",
              " '061521.pdf',\n",
              " '052521.pdf',\n",
              " '062921.pdf',\n",
              " '033121.pdf',\n",
              " '071321.pdf',\n",
              " '032421.pdf',\n",
              " '072521.pdf',\n",
              " '031021.pdf',\n",
              " '040621.pdf',\n",
              " '053021.pdf',\n",
              " '060621.pdf',\n",
              " '070621.pdf',\n",
              " '062021.pdf',\n",
              " '060921.pdf',\n",
              " '061321.pdf',\n",
              " '030721.pdf',\n",
              " '040421.pdf',\n",
              " '062221.pdf',\n",
              " '070421.pdf',\n",
              " '060821.pdf',\n",
              " '030321.pdf',\n",
              " '070721.pdf',\n",
              " '030921.pdf',\n",
              " '032821.pdf',\n",
              " '072721.pdf',\n",
              " '061621.pdf']"
            ]
          },
          "metadata": {
            "tags": []
          },
          "execution_count": 86
        }
      ]
    },
    {
      "cell_type": "code",
      "metadata": {
        "id": "mygaNSl82nA3"
      },
      "source": [
        "sorted_files_names = eii_list_diee_sort_korbo \n",
        "'''\n",
        "observation, something very scary happened here. \n",
        "When I sorted the sorted_files_names, I found out that the other equaled list got sorted as well. \n",
        "This is rad, to say the least. I'll ask Ansary bhai why this might happen.\n",
        "'''\n",
        "sorted_files_names.sort()"
      ],
      "execution_count": 82,
      "outputs": []
    },
    {
      "cell_type": "code",
      "metadata": {
        "id": "yDZS-dou8fku"
      },
      "source": [
        "eii_list_diee_sort_korbo = [] \n",
        "\n",
        "for i in range(0,len(actual_file_name_sorted)):\n",
        "  \n",
        "  temp_dates  = actual_file_name_sorted[i][0:2]\n",
        "  temp_months = actual_file_name_sorted[i][2:4]\n",
        "  temp_list = actual_file_name_sorted[i][2:4] + actual_file_name_sorted[i][0:2] + actual_file_name_sorted[i][4:]\n",
        "  eii_list_diee_sort_korbo.append(temp_list)\n",
        "  # actual_file_name_sorted[i][0:2] =  temp_months\n",
        "  # actual_file_name_sorted[i][2:4] =  temp_dates\n",
        "  #print(temp_dates)\n",
        "  #print(temp_months) \n",
        "  #actual_file_name[i] = actual_file_name[i].replace('_','')\n",
        "eii_list_diee_sort_korbo"
      ],
      "execution_count": null,
      "outputs": []
    },
    {
      "cell_type": "code",
      "metadata": {
        "colab": {
          "base_uri": "https://localhost:8080/"
        },
        "id": "gpTATNsJ5cFG",
        "outputId": "7dfe8dfd-858d-4e83-c27d-39304cec0e67"
      },
      "source": [
        "actual_order = []\n",
        "for i in range(0,len(actual_file_name_sorted)):\n",
        "  for j in range(0,len(actual_file_name_sorted)):\n",
        "    if sorted_files_names[i] == eii_list_diee_sort_korbo[j]:\n",
        "      actual_order.append(j)\n",
        "actual_order"
      ],
      "execution_count": 87,
      "outputs": [
        {
          "output_type": "execute_result",
          "data": {
            "text/plain": [
              "[11,\n",
              " 32,\n",
              " 27,\n",
              " 34,\n",
              " 19,\n",
              " 0,\n",
              " 6,\n",
              " 9,\n",
              " 17,\n",
              " 35,\n",
              " 15,\n",
              " 28,\n",
              " 20,\n",
              " 4,\n",
              " 13,\n",
              " 21,\n",
              " 7,\n",
              " 8,\n",
              " 22,\n",
              " 31,\n",
              " 25,\n",
              " 26,\n",
              " 12,\n",
              " 37,\n",
              " 24,\n",
              " 29,\n",
              " 5,\n",
              " 1,\n",
              " 14,\n",
              " 2,\n",
              " 30,\n",
              " 23,\n",
              " 33,\n",
              " 3,\n",
              " 16,\n",
              " 18,\n",
              " 36,\n",
              " 10]"
            ]
          },
          "metadata": {
            "tags": []
          },
          "execution_count": 87
        }
      ]
    },
    {
      "cell_type": "code",
      "metadata": {
        "colab": {
          "base_uri": "https://localhost:8080/"
        },
        "id": "lMdaxoji6ZWt",
        "outputId": "f364f538-51b1-4af0-b4bd-7524a670205f"
      },
      "source": [
        "# we rename the files of the destination according to the sequences. \n",
        "# make a folder and paste the sorted ones with the right sequence there\n",
        "# before that, we had to get the actual files names corrected to what they were, before hard processing\n",
        "for i in range(0,len(actual_file_name_sorted)):\n",
        "  print(actual_file_name[actual_order[i]])\n",
        "  src = actual_file_name[actual_order[i]]\n",
        "  os.rename(src,'/content/' + 'Lect_'+ str(i) + '.pdf' )\n",
        "  \n"
      ],
      "execution_count": 96,
      "outputs": [
        {
          "output_type": "stream",
          "text": [
            "/content/Class_020321.pdf\n",
            "/content/Class_030321.pdf\n",
            "/content/Class_070321.pdf\n",
            "/content/Class_090321.pdf\n",
            "/content/Class_10_0321.pdf\n",
            "/content/Class_14_0321.pdf\n",
            "/content/Class_21_0321.pdf\n",
            "/content/Class_23_0321.pdf\n",
            "/content/Class_24_0321.pdf\n",
            "/content/Class_28_0321.pdf\n",
            "/content/Class_31_0321.pdf\n",
            "/content/Class_4_0421.pdf\n",
            "/content/Class_6_0421.pdf\n",
            "/content/Class_7_0421.pdf\n",
            "/content/Class_25_0521.pdf\n",
            "/content/Class_30_0521.pdf\n",
            "/content/Class_01_0621.pdf\n",
            "/content/Class_02_0621.pdf\n",
            "/content/Class_06_0621.pdf\n",
            "/content/Class_08_0621.pdf\n",
            "/content/Class_09_0621.pdf\n",
            "/content/Class_13_0621.pdf\n",
            "/content/Class_15_0621.pdf\n",
            "/content/Class_16_0621.pdf\n",
            "/content/Class_20_0621.pdf\n",
            "/content/Class_22_0621.pdf\n",
            "/content/Class_23_0621.pdf\n",
            "/content/Class_27_0621.pdf\n",
            "/content/Class_29_0621.pdf\n",
            "/content/Class_30_0621.pdf\n",
            "/content/Class_04_0721.pdf\n",
            "/content/Class_06_0721.pdf\n",
            "/content/Class_07_0721.pdf\n",
            "/content/Class_11_0721.pdf\n",
            "/content/Class_13_0721.pdf\n",
            "/content/Class_25_07_21.pdf\n",
            "/content/Class_27_07_21.pdf\n",
            "/content/Class_28_07_21.pdf\n"
          ],
          "name": "stdout"
        }
      ]
    },
    {
      "cell_type": "code",
      "metadata": {
        "id": "Qy2bC0mf-EQB"
      },
      "source": [
        "os.mkdir('/content/ORDERED FILES')"
      ],
      "execution_count": 93,
      "outputs": []
    },
    {
      "cell_type": "code",
      "metadata": {
        "id": "KhSei7se-jc4"
      },
      "source": [
        "import shutil"
      ],
      "execution_count": 94,
      "outputs": []
    },
    {
      "cell_type": "code",
      "metadata": {
        "id": "nwQ2p0ENAX6p"
      },
      "source": [
        "actual_file_name_lect = []\n",
        "for name in glob.glob(\"/content/Lect*\"):\n",
        "    actual_file_name_lect.append(name)"
      ],
      "execution_count": 98,
      "outputs": []
    },
    {
      "cell_type": "code",
      "metadata": {
        "id": "Hva4YKH8-ymI"
      },
      "source": [
        "len(actual_file_name_lect)\n",
        "for i in range(0,len(actual_file_name_sorted)):\n",
        " shutil.move(actual_file_name_lect[i], '/content/ORDERED FILES')"
      ],
      "execution_count": 99,
      "outputs": []
    },
    {
      "cell_type": "code",
      "metadata": {
        "id": "w7nQoX5VAoZt"
      },
      "source": [
        ""
      ],
      "execution_count": null,
      "outputs": []
    },
    {
      "cell_type": "code",
      "metadata": {
        "colab": {
          "base_uri": "https://localhost:8080/"
        },
        "id": "zF3lutFpBCwD",
        "outputId": "69d4d783-e8f2-4690-e808-85d4b4a369a2"
      },
      "source": [
        "from google.colab import drive\n",
        "drive.mount('/gdrive')"
      ],
      "execution_count": 100,
      "outputs": [
        {
          "output_type": "stream",
          "text": [
            "Mounted at /gdrive\n"
          ],
          "name": "stdout"
        }
      ]
    },
    {
      "cell_type": "code",
      "metadata": {
        "colab": {
          "base_uri": "https://localhost:8080/",
          "height": 35
        },
        "id": "k16z7bw7BCwI",
        "outputId": "9f3de6b9-4aef-400b-acce-c92da22c4c75"
      },
      "source": [
        "shutil.move('/content/ORDERED FILES' , '/gdrive/MyDrive' )"
      ],
      "execution_count": 101,
      "outputs": [
        {
          "output_type": "execute_result",
          "data": {
            "application/vnd.google.colaboratory.intrinsic+json": {
              "type": "string"
            },
            "text/plain": [
              "'/gdrive/MyDrive/ORDERED FILES'"
            ]
          },
          "metadata": {
            "tags": []
          },
          "execution_count": 101
        }
      ]
    },
    {
      "cell_type": "code",
      "metadata": {
        "id": "8uxrCwQ6BeAx"
      },
      "source": [
        "# success"
      ],
      "execution_count": 102,
      "outputs": []
    },
    {
      "cell_type": "code",
      "metadata": {
        "colab": {
          "base_uri": "https://localhost:8080/"
        },
        "id": "538LIB80BjI4",
        "outputId": "cc03cb79-42ad-4409-83f0-81ecf48ae30d"
      },
      "source": [
        "# can I write a simple script that can keep my kaggle busy for eternity ? XD\n",
        "import time \n",
        "\n",
        "def your_function():\n",
        "    print(\"Hello, World\")\n",
        "\n",
        "while True:\n",
        "    your_function()\n",
        "    time.sleep(600) #make function to sleep for 10 mins"
      ],
      "execution_count": null,
      "outputs": [
        {
          "output_type": "stream",
          "text": [
            "Hello, World\n"
          ],
          "name": "stdout"
        }
      ]
    },
    {
      "cell_type": "code",
      "metadata": {
        "id": "gVwIrBBECGBL"
      },
      "source": [
        ""
      ],
      "execution_count": null,
      "outputs": []
    }
  ]
}