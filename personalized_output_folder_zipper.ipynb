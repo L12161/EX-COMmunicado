{
  "nbformat": 4,
  "nbformat_minor": 0,
  "metadata": {
    "colab": {
      "name": "personalized output folder zipper.ipynb",
      "provenance": [],
      "authorship_tag": "ABX9TyMmt5IvywbKBO3lI+Zo+R+q",
      "include_colab_link": true
    },
    "kernelspec": {
      "name": "python3",
      "display_name": "Python 3"
    },
    "language_info": {
      "name": "python"
    }
  },
  "cells": [
    {
      "cell_type": "markdown",
      "metadata": {
        "id": "view-in-github",
        "colab_type": "text"
      },
      "source": [
        "<a href=\"https://colab.research.google.com/github/L12161/EX-COMmunicado/blob/main/personalized_output_folder_zipper.ipynb\" target=\"_parent\"><img src=\"https://colab.research.google.com/assets/colab-badge.svg\" alt=\"Open In Colab\"/></a>"
      ]
    },
    {
      "cell_type": "code",
      "metadata": {
        "colab": {
          "base_uri": "https://localhost:8080/"
        },
        "id": "g2fV4MxHQEpr",
        "outputId": "48132ecf-9e63-4724-81c8-4746ce74643a"
      },
      "source": [
        "print(\"it;s 5pm and I am not tired at all\")"
      ],
      "execution_count": 1,
      "outputs": [
        {
          "output_type": "stream",
          "name": "stdout",
          "text": [
            "it;s 5pm and I am not tired at all\n"
          ]
        }
      ]
    },
    {
      "cell_type": "code",
      "metadata": {
        "id": "8LlKznQFQMoI"
      },
      "source": [
        "import os \n",
        "os.mkdir (\"/content/test_folder\")"
      ],
      "execution_count": 2,
      "outputs": []
    },
    {
      "cell_type": "code",
      "metadata": {
        "colab": {
          "base_uri": "https://localhost:8080/"
        },
        "id": "etn4Y_ycQaOf",
        "outputId": "4f811905-3bf0-48bf-f137-5763d0a2ff02"
      },
      "source": [
        "os.listdir(\"/content/test_folder\")"
      ],
      "execution_count": 4,
      "outputs": [
        {
          "output_type": "execute_result",
          "data": {
            "text/plain": [
              "['paper_survey_NLP.txt',\n",
              " 'Directional Graph Networks.txt',\n",
              " 'minutes_20th_Oct.txt']"
            ]
          },
          "metadata": {},
          "execution_count": 4
        }
      ]
    },
    {
      "cell_type": "code",
      "metadata": {
        "colab": {
          "base_uri": "https://localhost:8080/",
          "height": 35
        },
        "id": "798BsGMJQrbG",
        "outputId": "7ebed4f8-fac7-4af3-ea8c-939fe5cf7672"
      },
      "source": [
        "import shutil\n",
        "output_filename = \"/content/out\"\n",
        "dir_name = \"/content/test_folder\"\n",
        "shutil.make_archive(output_filename, 'zip', dir_name)"
      ],
      "execution_count": 6,
      "outputs": [
        {
          "output_type": "execute_result",
          "data": {
            "application/vnd.google.colaboratory.intrinsic+json": {
              "type": "string"
            },
            "text/plain": [
              "'/content/out.zip'"
            ]
          },
          "metadata": {},
          "execution_count": 6
        }
      ]
    }
  ]
}